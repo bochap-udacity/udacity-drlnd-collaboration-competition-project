{
 "cells": [
  {
   "cell_type": "markdown",
   "metadata": {},
   "source": [
    "# Collaboration and Competition\n",
    "\n",
    "---\n",
    "\n",
    "Follow the instructions below to get started!\n",
    "\n",
    "### Setup the Environment\n",
    "\n",
    "Run the next code cell to setup the environment.  This line might take a few minutes to run!\n",
    "\n",
    "The environments corresponding to both versions of the environment are already saved in the Workspace and can be accessed at the file paths provided below.  \n",
    "\n",
    "Please select one of the two options below for loading the environment."
   ]
  },
  {
   "cell_type": "code",
   "execution_count": 1,
   "metadata": {},
   "outputs": [
    {
     "name": "stdout",
     "output_type": "stream",
     "text": [
      "\u001b[31mtensorflow 1.7.1 has requirement numpy>=1.13.3, but you'll have numpy 1.12.1 which is incompatible.\u001b[0m\r\n",
      "\u001b[31mipython 6.5.0 has requirement prompt-toolkit<2.0.0,>=1.0.15, but you'll have prompt-toolkit 2.0.10 which is incompatible.\u001b[0m\r\n"
     ]
    }
   ],
   "source": [
    "workspace = 'udacity'   # set to udacity if running in the workspace\n",
    "if workspace == 'udacity':\n",
    "    !pip -q install ./python\n",
    "\n",
    "environments = {\n",
    "    'local-linux-agent': './unity_environments/Tennis_Linux/Tennis.x86', \n",
    "    'local-linux64-agent': './unity_environments/Tennis_Linux/Tennis.x86_64',         \n",
    "    'local-macos-agent': './unity_environments/Tennis.app',\n",
    "    'local-windows-agent': './unity_environments/Tennis_Windows_x86/Tennis.exe',\n",
    "    'local-windows64-agent': './unity_environments/single_agent/Tennis_Windows_x86_64/Tennis.exe',   \n",
    "    'udacity-agent': '/data/Tennis_Linux_NoVis/Tennis'\n",
    "}\n",
    "\n",
    "env_file_name = environments['udacity-agent']"
   ]
  },
  {
   "cell_type": "markdown",
   "metadata": {},
   "source": [
    "### Runtime Initialization\n",
    "\n",
    "Import all the packages required to run this notebook and setup the Unity Environment"
   ]
  },
  {
   "cell_type": "code",
   "execution_count": 2,
   "metadata": {},
   "outputs": [
    {
     "name": "stderr",
     "output_type": "stream",
     "text": [
      "INFO:unityagents:\n",
      "'Academy' started successfully!\n",
      "Unity Academy name: Academy\n",
      "        Number of Brains: 1\n",
      "        Number of External Brains : 1\n",
      "        Lesson number : 0\n",
      "        Reset Parameters :\n",
      "\t\t\n",
      "Unity brain name: TennisBrain\n",
      "        Number of Visual Observations (per agent): 0\n",
      "        Vector Observation space type: continuous\n",
      "        Vector Observation space size (per agent): 8\n",
      "        Number of stacked Vector Observation: 3\n",
      "        Vector Action space type: continuous\n",
      "        Vector Action space size (per agent): 2\n",
      "        Vector Action descriptions: , \n"
     ]
    }
   ],
   "source": [
    "import numpy as np\n",
    "from collections import namedtuple, deque\n",
    "from datetime import datetime\n",
    "\n",
    "from unityagents import UnityEnvironment\n",
    "\n",
    "import random\n",
    "import torch\n",
    "from buffers.replaybuffer import ReplayBuffer\n",
    "from ddpg.agent import Agent as DDPG_Agent\n",
    "\n",
    "import matplotlib.pyplot as plt\n",
    "%matplotlib inline\n",
    "\n",
    "env = UnityEnvironment(file_name=env_file_name)"
   ]
  },
  {
   "cell_type": "markdown",
   "metadata": {},
   "source": [
    "### Get required properties from the environment\n",
    "\n",
    "Environments contain **_brains_** which are responsible for deciding the actions of their associated agents. Here we check for the first brain available, and set it as the default brain we will be controlling from Python."
   ]
  },
  {
   "cell_type": "code",
   "execution_count": 3,
   "metadata": {},
   "outputs": [],
   "source": [
    "# get the default brain\n",
    "brain_name = env.brain_names[0]\n",
    "brain = env.brains[brain_name]"
   ]
  },
  {
   "cell_type": "markdown",
   "metadata": {},
   "source": [
    "### Examine the State and Action Spaces\n",
    "\n",
    "Run the code cell below to print some information about the environment."
   ]
  },
  {
   "cell_type": "code",
   "execution_count": 4,
   "metadata": {},
   "outputs": [
    {
     "name": "stdout",
     "output_type": "stream",
     "text": [
      "Number of agents}: 2\n",
      "Size of each action: 2\n",
      "There are 2 agents. Each observes a state with length: 24\n",
      "The state for the first agent looks like: [ 0.          0.          0.          0.          0.          0.          0.\n",
      "  0.          0.          0.          0.          0.          0.          0.\n",
      "  0.          0.         -6.65278625 -1.5        -0.          0.\n",
      "  6.83172083  6.         -0.          0.        ]\n",
      "The rewards for the agents looks like: [0.0, 0.0]\n",
      "The dones for the agents looks like: [False, False]\n"
     ]
    }
   ],
   "source": [
    "# reset the environment\n",
    "env_info = env.reset(train_mode=True)[brain_name]\n",
    "\n",
    "# number of agents\n",
    "num_agents = len(env_info.agents)\n",
    "print('Number of agents}:', num_agents)\n",
    "\n",
    "# size of each action\n",
    "action_size = brain.vector_action_space_size\n",
    "print('Size of each action:', action_size)\n",
    "\n",
    "# examine the state space \n",
    "states = env_info.vector_observations\n",
    "state_size = states.shape[1]\n",
    "print('There are {} agents. Each observes a state with length: {}'.format(states.shape[0], state_size))\n",
    "print('The state for the first agent looks like:', states[0])\n",
    "\n",
    "# examine the rewards space \n",
    "rewards = env_info.rewards \n",
    "print('The rewards for the agents looks like:', rewards)\n",
    "\n",
    "# examine the done space \n",
    "dones = env_info.local_done \n",
    "print('The dones for the agents looks like:', dones)"
   ]
  },
  {
   "cell_type": "markdown",
   "metadata": {},
   "source": [
    "### Train the agent in the Environment\n",
    "\n",
    "This implementation using Deep Deterministic Policy Gradients (DDPG) algorithm to solve the problem.\n",
    "\n",
    "### Architecture\n",
    "\n",
    "#### Agent\n",
    "\n",
    "The Agent uses the \"Actor-Critic\" that is a method which uses funcation approximation to learn a policy for any value function to solve the continuous action space. The Actor and Critic are 2 networks that do the following:\n",
    "1. Actor - Takes in a state and outputs the distribution over actions.\n",
    "2. Critic - Approximate the maximizer over the Q values of the next state that trains the action\n",
    "\n",
    "The Agent also uses a ReplyBuffer to interact with the environment for training. It uses the Eplison Greedy method to select the action with a starting epsilon of 1.0. The epsilon is decayed over the episodes using a decay rate of 0.00000001 with an ending epsilon of 0.01.\n",
    "   - Replay Buffer: It stores the experience that the agent observes, allowing us to reuse this data later. This allows the agent to sample the transistions randomly reducing the correlation in a batch. This has been shown to stablize and improve the DQN training. The buffer is a a cyclic buffer of bounded size that holds the experiences observed recently. It also implements a .sample() method for selecting a random batch of experiences for training. Each experience stored is actually a NamedTuple containing a single a named tuple representing a single interaction with the environment. It essentially maps (state, action) pairs to their (next_state, reward, done) result.\n",
    "   - Target network: This network is compared to the local network minimize the error better the 2 to maximize the reward to solve the task. The agent randomly initialized it at a start and it is updated everytime the buffer hits the batch size. The update is performed by picking random samples from the Replay Buffer to get the bast action for a given state.\n",
    "   - Local network: This network takes a state as input and outputs an action. It makes use of a Ornstein-Uhlenbeck process to perform exploration of actions during the training process\n",
    "\n",
    "It takes in the following parameters during contruction:\n",
    "1. device - Allows the training to switch between running on the CPU or GPU\n",
    "2. config dictinarary that contains the key values \n",
    "    - \"num_agents\": number of agents for environment\n",
    "    - \"state_size\": dimension of each state\n",
    "    - \"action_size\": dimension of each action\n",
    "    - \"buffer_size\": replay buffer size\n",
    "    - \"batch_size\": minibatch size\n",
    "    - \"random_seed\": random seed\n",
    "    - \"gamma\": discount factor\n",
    "    - \"tau\": for soft update of target parameters\n",
    "    - \"weight_decay\": L2 weight decay\n",
    "    - \"learn_every\": learn from replay buffer every time step\n",
    "    - \"learn_batch_size\": number of batches to learn from replay buffer every learn_every time step\n",
    "    - \"grad_clip\": gradient value to clip at for critic\n",
    "    - \"eps_start\": starting value of epsilon, for epsilon-greedy action selection\n",
    "    - \"eps_end\": minimum value of epsilon\n",
    "    - \"eps_decay\": multiplicative factor (per episode) for decreasing epsilon\n",
    "    - \"print_every\": Print average every x episode,\n",
    "    - \"episode_steps\": Maximum number of steps to run for each episode\n",
    "    - \"mu\": mu for noise\n",
    "    - \"theta\": theta for noise \n",
    "    - \"sigma\": sigma for noise\n",
    "    - \"actor\": actor specific config object\n",
    "        - \"fc\": array of input sizes for hidden layers\n",
    "        - \"learning_rate\": learning rate\n",
    "    - \"critic\": actor specific config object\n",
    "        - \"fc\": array of input sizes for hidden layers\n",
    "        - \"learning_rate\": learning rate\n",
    "    - \"target_score\": target average score that the agent will conside the episode as solving the problem\n",
    "    \n",
    "\n",
    "#### Contructor\n",
    "\n",
    "The constructor of the agent takes care of creating the Actor local and target network, Critic local and target network, an Adam optimizer, Ornstein-Uhlenbeck noise.\n",
    "\n",
    "#### Methods\n",
    "1. act\n",
    "This method is called with the current state which the agent uses with the Ornstein-Uhlenbeck noise process to explore the next action to perform.\n",
    "2. step\n",
    "This method takes in the `state, action, reward, next_state, done, timestep` values that were obtained from performing the action obtained from the act method previously. Internally it stores the inputs into the ReplayBuffer. And during every `learn_every` step it will trigger the learn method on a random sample of responses if the memory capacity is greater than the `batch_size`. The step method will loop true all the experiences for all agents in the environment to be stored in the ReplayBuffer.\n",
    "3. reset\n",
    "This method resets the noise process during learning\n",
    "4. learn_episode\n",
    "This method is called by the runner to learn from all time steps in an episode. The runner will call it when it finds the best episode average. It makes the network converge faster\n",
    "5. learn\n",
    "This method will calculate the target rewards and calculate the loss against the Q values in the local network using the `MSELoss` function. It will then perform any required optimization using the optimizer. And it will trigger the `soft_update` method. It also decays the eplison value that is used to generate the noise\n",
    "6. soft_update\n",
    "This method will perform an update on the parameters in the target network.\n",
    "\n",
    "#### Network\n",
    "\n",
    "##### Actor\n",
    "Forward pass Network that has 3 feed forward layers and a Batch Normalization Layer:\n",
    "1. fc1 - in:state_size, out:fc1_units\n",
    "2. bc1 - in:fc1_units, out:fc1_units\n",
    "3. relu - activation for adding nonlinearity\n",
    "4. fc2 - in:fc1_units, out:fc2_units\n",
    "5. bc2 - in:fc2_units, out:fc2_units\n",
    "6. relu - activation for adding nonlinearity\n",
    "7. fc3 - in:fc2_units, out:1\n",
    "\n",
    "##### Critic\n",
    "Forward pass Network mapping (Stae, action) pairs -> Q-values that has 3 feed forward layers and a Batch Normalization Layer:\n",
    "1. fcs1 - in:state_size, out:fcs1_units\n",
    "2. bc1 - in:fcs1_units, out:fcs1_units\n",
    "3. relu - activation for adding nonlinearity\n",
    "4. fc2 - in:fcs1_units+action_size, out:fc2_units\n",
    "5. bc2 - in:fc2_units, out:fc2_units\n",
    "6. relu: activation for adding nonlinearity\n",
    "7. fc3: in:fc2_units, out:1"
   ]
  },
  {
   "cell_type": "code",
   "execution_count": 5,
   "metadata": {
    "scrolled": true
   },
   "outputs": [
    {
     "name": "stdout",
     "output_type": "stream",
     "text": [
      "Starting training 2019-11-19 14:27:20.300440\n",
      "Episode 20\tLast 100 Episodes Average Scores: 0.02 took 0:00:00.505576\n",
      "Episode 40\tLast 100 Episodes Average Scores: 0.01 took 0:00:00.244517\n",
      "Episode 60\tLast 100 Episodes Average Scores: 0.01 took 0:00:00.251895\n",
      "Episode 80\tLast 100 Episodes Average Scores: 0.01 took 0:00:00.234612\n",
      "Episode 100\tLast 100 Episodes Average Scores: 0.00 took 0:00:00.241491\n",
      "Episode 120\tLast 100 Episodes Average Scores: 0.00 took 0:00:00.241524\n",
      "Episode 140\tLast 100 Episodes Average Scores: 0.00 took 0:00:00.231438\n",
      "Episode 160\tLast 100 Episodes Average Scores: 0.00 took 0:00:00.249882\n",
      "Episode 180\tLast 100 Episodes Average Scores: 0.00 took 0:00:00.223950\n",
      "Episode 200\tLast 100 Episodes Average Scores: 0.00 took 0:00:00.244351\n",
      "Episode 220\tLast 100 Episodes Average Scores: 0.00 took 0:00:00.227292\n",
      "Episode 240\tLast 100 Episodes Average Scores: 0.01 took 0:00:00.565536\n",
      "Episode 260\tLast 100 Episodes Average Scores: 0.01 took 0:00:00.223924\n",
      "Episode 280\tLast 100 Episodes Average Scores: 0.02 took 0:00:00.503914\n",
      "Episode 300\tLast 100 Episodes Average Scores: 0.03 took 0:00:00.494757\n",
      "Episode 320\tLast 100 Episodes Average Scores: 0.04 took 0:00:00.891465\n",
      "Episode 340\tLast 100 Episodes Average Scores: 0.05 took 0:00:00.236720\n",
      "Episode 360\tLast 100 Episodes Average Scores: 0.06 took 0:00:01.182335\n",
      "Episode 380\tLast 100 Episodes Average Scores: 0.07 took 0:00:00.241847\n",
      "Episode 400\tLast 100 Episodes Average Scores: 0.08 took 0:00:01.512084\n",
      "Episode 420\tLast 100 Episodes Average Scores: 0.08 took 0:00:00.237231\n",
      "Episode 440\tLast 100 Episodes Average Scores: 0.08 took 0:00:00.235224\n",
      "Episode 460\tLast 100 Episodes Average Scores: 0.08 took 0:00:01.475585\n",
      "Episode 480\tLast 100 Episodes Average Scores: 0.11 took 0:00:01.039863\n",
      "Episode 500\tLast 100 Episodes Average Scores: 0.14 took 0:00:00.805568\n",
      "Episode 520\tLast 100 Episodes Average Scores: 0.24 took 0:00:00.833335\n",
      "Episode 540\tLast 100 Episodes Average Scores: 0.34 took 0:00:00.994689\n",
      "Episode 560\tLast 100 Episodes Average Scores: 0.43 took 0:00:03.795777\n",
      "Episode 576\tScore: 1.90\tBest Score in all episodes: 2.60\n",
      "Environment solved in 476 episodes!\tAverage Score: 0.51\n"
     ]
    }
   ],
   "source": [
    "config = { \n",
    "    \"num_agents\": num_agents,    # number of agents for environment\n",
    "    \"state_size\": state_size,    # dimension of each state\n",
    "    \"action_size\": action_size,  # dimension of each action\n",
    "    \"buffer_size\": int(1e10),    # replay buffer size\n",
    "    \"batch_size\": 128,           # minibatch size\n",
    "    \"random_seed\": 1,            # random seed\n",
    "    \"gamma\": 0.99,               # discount factor\n",
    "    \"tau\": 3e-3,                 # for soft update of target parameters\n",
    "    \"weight_decay\": 0,           # L2 weight decay\n",
    "    \"learn_every\": 1,            # learn from replay buffer every time step\n",
    "    \"learn_batch_size\": 1,       # number of batches to learn from replay buffer every learn_every time step\n",
    "    \"grad_clip\": 1.0,            # gradient value to clip at for critic\n",
    "    \"eps_start\": 1.0,            # starting value of epsilon, for epsilon-greedy action selection\n",
    "    \"eps_end\": 0,                # minimum value of epsilon\n",
    "    \"eps_decay\": 1e-8,           # multiplicative factor (per episode) for decreasing epsilon\n",
    "    \"print_every\": 20,           # Print average every x episode,\n",
    "    \"mu\": 0,                     # mu for noise\n",
    "    \"theta\": 0.15,               # theta for noise \n",
    "    \"sigma\": 0.01,               # sigma for noise\n",
    "    \"actor\": {                   # actor specific config object\n",
    "        \"fc\": [ 512, 256 ],      # array of input sizes for hidden layers,\n",
    "        \"learning_rate\": 1e-4    # learning rate\n",
    "    },\n",
    "    \"critic\": {                  # actor specific config object\n",
    "        \"fc\": [ 512, 256 ],      # array of input sizes for hidden layers\n",
    "        \"learning_rate\": 1e-3    # learning rate\n",
    "    },\n",
    "    \"target_score\": 0.5          # target average score that the agent will conside the episode as solving the probleme config values\n",
    "}\n",
    "\n",
    "def ddpg(agent, n_episodes=1000):\n",
    "    best_score = 0\n",
    "    max_scores = []                                      # Track best scores\n",
    "    last_100_max_scores = deque(maxlen=100)              # Best scores from most recent 100 episodes\n",
    "    last_100_average_scores = deque(maxlen=100)\n",
    "    print(f'Starting training {datetime.now()}')\n",
    "    for i_episode in range(1, n_episodes+1):\n",
    "        start_datetime = datetime.now()\n",
    "        agent.reset_episode()\n",
    "        env_info = env.reset(train_mode=True)[brain_name] \n",
    "        states = env_info.vector_observations \n",
    "        scores = np.zeros(num_agents)\n",
    "        timestep = 0\n",
    "        while True:\n",
    "            timestep += 1\n",
    "            actions = agent.act(states, add_noise=True)\n",
    "            env_info = env.step(actions)[brain_name]\n",
    "            next_states = env_info.vector_observations         # get next state (for each agent)\n",
    "            rewards = env_info.rewards                         # get reward (for each agent)\n",
    "            dones = env_info.local_done                        # see if episode finished\n",
    "            agent.step(states, actions, rewards, next_states, dones, timestep)\n",
    "\n",
    "            states = next_states\n",
    "            scores += rewards\n",
    "            if np.any(dones):\n",
    "                break\n",
    "        \n",
    "        max_score = np.max(scores)\n",
    "        max_scores.append(max_score)\n",
    "        last_100_max_scores.append(max_score)\n",
    "        if max_score >= best_score:\n",
    "            best_score = max_score\n",
    "            agent.learn_best_episode()            \n",
    "        \n",
    "        if max_score >= config[\"target_score\"]:\n",
    "            agent.learn_best_episode()\n",
    "            \n",
    "        print(f'\\rEpisode {i_episode}\\tScore: {max_score:.2f}\\tBest Score in all episodes: { best_score if best_score is not None else 0:.2f}', end=\"\")         \n",
    "        \n",
    "        mean_last_100_max_scores = np.mean(last_100_max_scores)\n",
    "        last_100_average_scores.append(mean_last_100_max_scores)\n",
    "        if mean_last_100_max_scores >= config[\"target_score\"]:\n",
    "            print(f'\\nEnvironment solved in {i_episode-100:d} episodes!\\tAverage Score: { mean_last_100_max_scores:.2f}') \n",
    "            torch.save(agent.actor_local.state_dict(), 'checkpoint_actor.pth')\n",
    "            torch.save(agent.critic_local.state_dict(), 'checkpoint_critic.pth')            \n",
    "            break\n",
    "        \n",
    "        if i_episode % config[\"print_every\"] == 0:\n",
    "            print(f'\\rEpisode {i_episode}\\tLast 100 Episodes Average Scores: {mean_last_100_max_scores:.2f} took {datetime.now() - start_datetime}')\n",
    "\n",
    "            \n",
    "    return max_scores, last_100_max_scores, last_100_average_scores, i_episode\n",
    "\n",
    "device = torch.device(\"cuda:0\" if torch.cuda.is_available() else \"cpu\")\n",
    "agent = DDPG_Agent(memory=ReplayBuffer(device=device, config=config), device=device, config=config)\n",
    "max_scores, last_100_max_scores, last_100_average_scores, episode = ddpg(agent, n_episodes=2000)    # The maximum step before the episode will end is 1,000\n"
   ]
  },
  {
   "cell_type": "markdown",
   "metadata": {},
   "source": [
    "### Results"
   ]
  },
  {
   "cell_type": "code",
   "execution_count": 6,
   "metadata": {},
   "outputs": [
    {
     "data": {
      "image/png": "[encoded data removed]",
      "text/plain": [
       "<matplotlib.figure.Figure at 0x7f9351252438>"
      ]
     },
     "metadata": {
      "needs_background": "light"
     },
     "output_type": "display_data"
    },
    {
     "data": {
      "image/png": "[encoded data removed]",
      "text/plain": [
       "<matplotlib.figure.Figure at 0x7f93509bc2e8>"
      ]
     },
     "metadata": {
      "needs_background": "light"
     },
     "output_type": "display_data"
    },
    {
     "data": {
      "image/png": "[encoded data removed]",
      "text/plain": [
       "<matplotlib.figure.Figure at 0x7f93500fd6a0>"
      ]
     },
     "metadata": {
      "needs_background": "light"
     },
     "output_type": "display_data"
    }
   ],
   "source": [
    "start_episode = episode - 100 if episode - 100 > 0 else 0\n",
    "fig = plt.figure()\n",
    "ax = fig.add_subplot(111)\n",
    "plt.plot(np.arange(len(max_scores)), max_scores)\n",
    "plt.ylabel('Score')\n",
    "plt.xlabel('Episode #')\n",
    "plt.show()\n",
    "ax = fig.add_subplot(211)\n",
    "plt.plot(np.arange(start_episode, episode), last_100_max_scores)\n",
    "plt.ylabel('Last 100 episodes score')\n",
    "plt.xlabel('Episode #')\n",
    "plt.show()\n",
    "ax = fig.add_subplot(311)\n",
    "plt.plot(np.arange(start_episode, episode), last_100_average_scores)\n",
    "plt.ylabel('Last 100 episodes average score')\n",
    "plt.xlabel('Episode #')\n",
    "plt.show()\n"
   ]
  },
  {
   "cell_type": "markdown",
   "metadata": {},
   "source": [
    "When finished, you can close the environment."
   ]
  },
  {
   "cell_type": "code",
   "execution_count": null,
   "metadata": {},
   "outputs": [],
   "source": [
    "env.close()"
   ]
  },
  {
   "cell_type": "markdown",
   "metadata": {},
   "source": [
    "#### Summary\n",
    "\n",
    "Various hyperparameters were modified during the training sessions to find the sweet spot to make the agent perform better. The final run achieved the acheived the required running total of average score of 0.5 over 100 episodes. This run was solved from episode 476 to 576 with the highest score across all scenarios is 2.60 and the average hit was 5.1. The following was done in the implementation:\n",
    "\n",
    "1. A best_scores value was tracked in the running loop, when an episode exceeds the currect best. The runner will make the agent learn from all the steps in that episode. This make the agent train faster form the testing\n",
    "2. n_episodes was set to 2,000 this run was able to complete by 476, but from testing depending on the agents exploration during the run it might require to be a larger\n",
    "3. eps_decay this is set to a low number that adds more noise at the start to introduce randomness that encourages exploration. As the episodes grow it slowly decays and reduces the noise to reduce action exploration\n",
    "4. tau is set to a higher value and it appears to make the agent converged faster. When set to 1e-3 it takes > 900 episodes to solve the problem. Setting it to 3e-3 makes it solved around 400.\n",
    "\n",
    "#### Ideas for Future Work\n",
    "1. A multi agent algorithm with each agent having its own network and ReplayBuffer can be tested. The theory is that each agent in the environment should not move across the center of the tennis court pass the net. They should not require to know what is on the other side of the net.\n",
    "2. Introducing Parameter noise that adds adaptive noise to the parameters of the neural network policy ranter than to its action space This injects randomness directly into the parameters of the agent, altering the types of decisions it makes such that they always fully depend on what the agent currently senses. It is suppose to help algorithms explore environments more effectively leading to higher scores and more elegant behaviours. (Reference -> https://openai.com/blog/better-exploration-with-parameter-noise/)\n",
    "3. The implementation has a method that learns from the time steps every time it encounters an episode that beats the last best score found or is higher than the required average of 0.5. More exploration into the Prioritized Experience Replay described by (https://arxiv.org/abs/1511.05952) to replay important transitions more frequently, and therefore learn more efficiently might be explored.\n",
    "4. Currently the learning occurs at every step for random sampling and the full scenario when the score is greater than the last highest or when the score is higher than the target 0.5. Learning on every step takes time and it might be worth looking into changing learn_every and learn_batch_size from 1 to higher numbers for the random learning ask the later scenarios start to have higher scores."
   ]
  },
  {
   "cell_type": "code",
   "execution_count": null,
   "metadata": {},
   "outputs": [],
   "source": []
  }
 ],
 "metadata": {
  "kernelspec": {
   "display_name": "Python 3",
   "language": "python",
   "name": "python3"
  },
  "language_info": {
   "codemirror_mode": {
    "name": "ipython",
    "version": 3
   },
   "file_extension": ".py",
   "mimetype": "text/x-python",
   "name": "python",
   "nbconvert_exporter": "python",
   "pygments_lexer": "ipython3",
   "version": "3.6.3"
  }
 },
 "nbformat": 4,
 "nbformat_minor": 2
}
